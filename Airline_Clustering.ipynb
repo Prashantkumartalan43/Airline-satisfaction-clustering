{
  "nbformat": 4,
  "nbformat_minor": 0,
  "metadata": {
    "colab": {
      "provenance": []
    },
    "kernelspec": {
      "name": "python3",
      "display_name": "Python 3"
    },
    "language_info": {
      "name": "python"
    }
  },
  "cells": [
    {
      "cell_type": "markdown",
      "source": [
        "**Abstract**\n",
        "\n",
        "The aim of this project is to identify and categorize clusters of airline passengers based on their shared characteristics and preferences.\n",
        "\n",
        "Techniques:  Clustering (KMeans and Agglomerative)\n",
        "\n",
        "Dataset: Airline Passenger Satisfaction"
      ],
      "metadata": {
        "id": "Ip1N9siJsiWP"
      }
    },
    {
      "cell_type": "markdown",
      "source": [
        "**About Data:**\n",
        "\n",
        "1. Gender - Gender of the passengers (Female, Male)\n",
        "2. Customer Type - The customer type (Loyal customer, disloyal customer)\n",
        "3. Age - The actual age of the passengers\n",
        "4. Type of Travel - Purpose of the flight of the passengers (Personal Travel, Business Travel)\n",
        "5. Class - Travel class in the plane of the passengers (Business, Eco, Eco Plus)\n",
        "6. Flight distance - The flight distance of this journey\n",
        "7. Inflight wifi service - Satisfaction level of the inflight wifi service (0:Not Applicable;1-5)\n",
        "8. Departure/Arrival time convenient - Satisfaction level of Departure/Arrival time convenient\n",
        "9. Ease of Online booking - Satisfaction level of online booking\n",
        "10. Gate location - Satisfaction level of Gate location\n",
        "11. Food and drink - Satisfaction level of Food and drink\n",
        "12. Online boarding - Satisfaction level of online boarding\n",
        "13. Seat comfort - Satisfaction level of Seat comfort\n",
        "14. Inflight entertainment - Satisfaction level of inflight entertainment\n",
        "15. On-board service - Satisfaction level of On-board service\n",
        "16. Leg room service - Satisfaction level of Leg room service\n",
        "17. Baggage handling - Satisfaction level of baggage handling\n",
        "18. Check-in service - Satisfaction level of Check-in service\n",
        "19. Inflight service - Satisfaction level of inflight service\n",
        "20. Cleanliness - Satisfaction level of Cleanliness\n",
        "21. Departure Delay in Minutes - Minutes delayed when departure\n",
        "22. Arrival Delay in Minutes - Minutes delayed when Arrival\n",
        "23. Satisfaction - Airline satisfaction level(Satisfaction, neutral or dissatisfaction)\n",
        "\n"
      ],
      "metadata": {
        "id": "puuMYoGGq_zz"
      }
    },
    {
      "cell_type": "code",
      "execution_count": 1,
      "metadata": {
        "id": "9MJX-ks5ltw5",
        "colab": {
          "base_uri": "https://localhost:8080/"
        },
        "outputId": "a3d74842-f7b9-4b34-9b6e-8c5653bb0a80"
      },
      "outputs": [
        {
          "output_type": "stream",
          "name": "stdout",
          "text": [
            "Collecting memory_profiler\n",
            "  Downloading memory_profiler-0.61.0-py3-none-any.whl (31 kB)\n",
            "Requirement already satisfied: psutil in /usr/local/lib/python3.10/dist-packages (from memory_profiler) (5.9.5)\n",
            "Installing collected packages: memory_profiler\n",
            "Successfully installed memory_profiler-0.61.0\n"
          ]
        }
      ],
      "source": [
        "!pip install memory_profiler\n",
        "import time\n",
        "import memory_profiler\n",
        "import numpy as np\n",
        "import pandas as pd\n",
        "import seaborn as sns\n",
        "import matplotlib.pyplot as plt\n",
        "\n",
        "from collections import Counter\n",
        "from sklearn.preprocessing import LabelEncoder\n",
        "from sklearn.preprocessing import StandardScaler\n",
        "\n",
        "from sklearn.cluster import KMeans\n",
        "import scipy.cluster.hierarchy as sch\n",
        "from sklearn.cluster import AgglomerativeClustering\n",
        "from sklearn.metrics import silhouette_score\n",
        "from sklearn.metrics import adjusted_rand_score"
      ]
    },
    {
      "cell_type": "code",
      "source": [
        "import warnings\n",
        "\n",
        "pd.set_option('display.max_columns', None)\n",
        "warnings.filterwarnings('ignore')"
      ],
      "metadata": {
        "id": "sdWjJgmR8Zy9"
      },
      "execution_count": 2,
      "outputs": []
    },
    {
      "cell_type": "code",
      "source": [
        "data = pd.read_csv(\"airline_satisfaction.csv\")\n",
        "data"
      ],
      "metadata": {
        "colab": {
          "base_uri": "https://localhost:8080/",
          "height": 669
        },
        "id": "PwH4GNNx4uDj",
        "outputId": "03aa9448-3433-4b23-ddf2-9281feb409c6"
      },
      "execution_count": 3,
      "outputs": [
        {
          "output_type": "execute_result",
          "data": {
            "text/plain": [
              "        Unnamed: 0      id  Gender      Customer Type  Age   Type of Travel  \\\n",
              "0                0   70172    Male     Loyal Customer   13  Personal Travel   \n",
              "1                1    5047    Male  disloyal Customer   25  Business travel   \n",
              "2                2  110028  Female     Loyal Customer   26  Business travel   \n",
              "3                3   24026  Female     Loyal Customer   25  Business travel   \n",
              "4                4  119299    Male     Loyal Customer   61  Business travel   \n",
              "...            ...     ...     ...                ...  ...              ...   \n",
              "103899      103899   94171  Female  disloyal Customer   23  Business travel   \n",
              "103900      103900   73097    Male     Loyal Customer   49  Business travel   \n",
              "103901      103901   68825    Male  disloyal Customer   30  Business travel   \n",
              "103902      103902   54173  Female  disloyal Customer   22  Business travel   \n",
              "103903      103903   62567    Male     Loyal Customer   27  Business travel   \n",
              "\n",
              "           Class  Flight Distance  Inflight wifi service  \\\n",
              "0       Eco Plus              460                      3   \n",
              "1       Business              235                      3   \n",
              "2       Business             1142                      2   \n",
              "3       Business              562                      2   \n",
              "4       Business              214                      3   \n",
              "...          ...              ...                    ...   \n",
              "103899       Eco              192                      2   \n",
              "103900  Business             2347                      4   \n",
              "103901  Business             1995                      1   \n",
              "103902       Eco             1000                      1   \n",
              "103903  Business             1723                      1   \n",
              "\n",
              "        Departure/Arrival time convenient  Ease of Online booking  \\\n",
              "0                                       4                       3   \n",
              "1                                       2                       3   \n",
              "2                                       2                       2   \n",
              "3                                       5                       5   \n",
              "4                                       3                       3   \n",
              "...                                   ...                     ...   \n",
              "103899                                  1                       2   \n",
              "103900                                  4                       4   \n",
              "103901                                  1                       1   \n",
              "103902                                  1                       1   \n",
              "103903                                  3                       3   \n",
              "\n",
              "        Gate location  Food and drink  Online boarding  Seat comfort  \\\n",
              "0                   1               5                3             5   \n",
              "1                   3               1                3             1   \n",
              "2                   2               5                5             5   \n",
              "3                   5               2                2             2   \n",
              "4                   3               4                5             5   \n",
              "...               ...             ...              ...           ...   \n",
              "103899              3               2                2             2   \n",
              "103900              4               2                4             5   \n",
              "103901              3               4                1             5   \n",
              "103902              5               1                1             1   \n",
              "103903              3               1                1             1   \n",
              "\n",
              "        Inflight entertainment  On-board service  Leg room service  \\\n",
              "0                            5                 4                 3   \n",
              "1                            1                 1                 5   \n",
              "2                            5                 4                 3   \n",
              "3                            2                 2                 5   \n",
              "4                            3                 3                 4   \n",
              "...                        ...               ...               ...   \n",
              "103899                       2                 3                 1   \n",
              "103900                       5                 5                 5   \n",
              "103901                       4                 3                 2   \n",
              "103902                       1                 4                 5   \n",
              "103903                       1                 1                 1   \n",
              "\n",
              "        Baggage handling  Checkin service  Inflight service  Cleanliness  \\\n",
              "0                      4                4                 5            5   \n",
              "1                      3                1                 4            1   \n",
              "2                      4                4                 4            5   \n",
              "3                      3                1                 4            2   \n",
              "4                      4                3                 3            3   \n",
              "...                  ...              ...               ...          ...   \n",
              "103899                 4                2                 3            2   \n",
              "103900                 5                5                 5            4   \n",
              "103901                 4                5                 5            4   \n",
              "103902                 1                5                 4            1   \n",
              "103903                 4                4                 3            1   \n",
              "\n",
              "        Departure Delay in Minutes  Arrival Delay in Minutes  \\\n",
              "0                               25                      18.0   \n",
              "1                                1                       6.0   \n",
              "2                                0                       0.0   \n",
              "3                               11                       9.0   \n",
              "4                                0                       0.0   \n",
              "...                            ...                       ...   \n",
              "103899                           3                       0.0   \n",
              "103900                           0                       0.0   \n",
              "103901                           7                      14.0   \n",
              "103902                           0                       0.0   \n",
              "103903                           0                       0.0   \n",
              "\n",
              "                   satisfaction  \n",
              "0       neutral or dissatisfied  \n",
              "1       neutral or dissatisfied  \n",
              "2                     satisfied  \n",
              "3       neutral or dissatisfied  \n",
              "4                     satisfied  \n",
              "...                         ...  \n",
              "103899  neutral or dissatisfied  \n",
              "103900                satisfied  \n",
              "103901  neutral or dissatisfied  \n",
              "103902  neutral or dissatisfied  \n",
              "103903  neutral or dissatisfied  \n",
              "\n",
              "[103904 rows x 25 columns]"
            ],
            "text/html": [
              "\n",
              "  <div id=\"df-b38166c5-e996-4ef4-ba9c-6696683418b7\" class=\"colab-df-container\">\n",
              "    <div>\n",
              "<style scoped>\n",
              "    .dataframe tbody tr th:only-of-type {\n",
              "        vertical-align: middle;\n",
              "    }\n",
              "\n",
              "    .dataframe tbody tr th {\n",
              "        vertical-align: top;\n",
              "    }\n",
              "\n",
              "    .dataframe thead th {\n",
              "        text-align: right;\n",
              "    }\n",
              "</style>\n",
              "<table border=\"1\" class=\"dataframe\">\n",
              "  <thead>\n",
              "    <tr style=\"text-align: right;\">\n",
              "      <th></th>\n",
              "      <th>Unnamed: 0</th>\n",
              "      <th>id</th>\n",
              "      <th>Gender</th>\n",
              "      <th>Customer Type</th>\n",
              "      <th>Age</th>\n",
              "      <th>Type of Travel</th>\n",
              "      <th>Class</th>\n",
              "      <th>Flight Distance</th>\n",
              "      <th>Inflight wifi service</th>\n",
              "      <th>Departure/Arrival time convenient</th>\n",
              "      <th>Ease of Online booking</th>\n",
              "      <th>Gate location</th>\n",
              "      <th>Food and drink</th>\n",
              "      <th>Online boarding</th>\n",
              "      <th>Seat comfort</th>\n",
              "      <th>Inflight entertainment</th>\n",
              "      <th>On-board service</th>\n",
              "      <th>Leg room service</th>\n",
              "      <th>Baggage handling</th>\n",
              "      <th>Checkin service</th>\n",
              "      <th>Inflight service</th>\n",
              "      <th>Cleanliness</th>\n",
              "      <th>Departure Delay in Minutes</th>\n",
              "      <th>Arrival Delay in Minutes</th>\n",
              "      <th>satisfaction</th>\n",
              "    </tr>\n",
              "  </thead>\n",
              "  <tbody>\n",
              "    <tr>\n",
              "      <th>0</th>\n",
              "      <td>0</td>\n",
              "      <td>70172</td>\n",
              "      <td>Male</td>\n",
              "      <td>Loyal Customer</td>\n",
              "      <td>13</td>\n",
              "      <td>Personal Travel</td>\n",
              "      <td>Eco Plus</td>\n",
              "      <td>460</td>\n",
              "      <td>3</td>\n",
              "      <td>4</td>\n",
              "      <td>3</td>\n",
              "      <td>1</td>\n",
              "      <td>5</td>\n",
              "      <td>3</td>\n",
              "      <td>5</td>\n",
              "      <td>5</td>\n",
              "      <td>4</td>\n",
              "      <td>3</td>\n",
              "      <td>4</td>\n",
              "      <td>4</td>\n",
              "      <td>5</td>\n",
              "      <td>5</td>\n",
              "      <td>25</td>\n",
              "      <td>18.0</td>\n",
              "      <td>neutral or dissatisfied</td>\n",
              "    </tr>\n",
              "    <tr>\n",
              "      <th>1</th>\n",
              "      <td>1</td>\n",
              "      <td>5047</td>\n",
              "      <td>Male</td>\n",
              "      <td>disloyal Customer</td>\n",
              "      <td>25</td>\n",
              "      <td>Business travel</td>\n",
              "      <td>Business</td>\n",
              "      <td>235</td>\n",
              "      <td>3</td>\n",
              "      <td>2</td>\n",
              "      <td>3</td>\n",
              "      <td>3</td>\n",
              "      <td>1</td>\n",
              "      <td>3</td>\n",
              "      <td>1</td>\n",
              "      <td>1</td>\n",
              "      <td>1</td>\n",
              "      <td>5</td>\n",
              "      <td>3</td>\n",
              "      <td>1</td>\n",
              "      <td>4</td>\n",
              "      <td>1</td>\n",
              "      <td>1</td>\n",
              "      <td>6.0</td>\n",
              "      <td>neutral or dissatisfied</td>\n",
              "    </tr>\n",
              "    <tr>\n",
              "      <th>2</th>\n",
              "      <td>2</td>\n",
              "      <td>110028</td>\n",
              "      <td>Female</td>\n",
              "      <td>Loyal Customer</td>\n",
              "      <td>26</td>\n",
              "      <td>Business travel</td>\n",
              "      <td>Business</td>\n",
              "      <td>1142</td>\n",
              "      <td>2</td>\n",
              "      <td>2</td>\n",
              "      <td>2</td>\n",
              "      <td>2</td>\n",
              "      <td>5</td>\n",
              "      <td>5</td>\n",
              "      <td>5</td>\n",
              "      <td>5</td>\n",
              "      <td>4</td>\n",
              "      <td>3</td>\n",
              "      <td>4</td>\n",
              "      <td>4</td>\n",
              "      <td>4</td>\n",
              "      <td>5</td>\n",
              "      <td>0</td>\n",
              "      <td>0.0</td>\n",
              "      <td>satisfied</td>\n",
              "    </tr>\n",
              "    <tr>\n",
              "      <th>3</th>\n",
              "      <td>3</td>\n",
              "      <td>24026</td>\n",
              "      <td>Female</td>\n",
              "      <td>Loyal Customer</td>\n",
              "      <td>25</td>\n",
              "      <td>Business travel</td>\n",
              "      <td>Business</td>\n",
              "      <td>562</td>\n",
              "      <td>2</td>\n",
              "      <td>5</td>\n",
              "      <td>5</td>\n",
              "      <td>5</td>\n",
              "      <td>2</td>\n",
              "      <td>2</td>\n",
              "      <td>2</td>\n",
              "      <td>2</td>\n",
              "      <td>2</td>\n",
              "      <td>5</td>\n",
              "      <td>3</td>\n",
              "      <td>1</td>\n",
              "      <td>4</td>\n",
              "      <td>2</td>\n",
              "      <td>11</td>\n",
              "      <td>9.0</td>\n",
              "      <td>neutral or dissatisfied</td>\n",
              "    </tr>\n",
              "    <tr>\n",
              "      <th>4</th>\n",
              "      <td>4</td>\n",
              "      <td>119299</td>\n",
              "      <td>Male</td>\n",
              "      <td>Loyal Customer</td>\n",
              "      <td>61</td>\n",
              "      <td>Business travel</td>\n",
              "      <td>Business</td>\n",
              "      <td>214</td>\n",
              "      <td>3</td>\n",
              "      <td>3</td>\n",
              "      <td>3</td>\n",
              "      <td>3</td>\n",
              "      <td>4</td>\n",
              "      <td>5</td>\n",
              "      <td>5</td>\n",
              "      <td>3</td>\n",
              "      <td>3</td>\n",
              "      <td>4</td>\n",
              "      <td>4</td>\n",
              "      <td>3</td>\n",
              "      <td>3</td>\n",
              "      <td>3</td>\n",
              "      <td>0</td>\n",
              "      <td>0.0</td>\n",
              "      <td>satisfied</td>\n",
              "    </tr>\n",
              "    <tr>\n",
              "      <th>...</th>\n",
              "      <td>...</td>\n",
              "      <td>...</td>\n",
              "      <td>...</td>\n",
              "      <td>...</td>\n",
              "      <td>...</td>\n",
              "      <td>...</td>\n",
              "      <td>...</td>\n",
              "      <td>...</td>\n",
              "      <td>...</td>\n",
              "      <td>...</td>\n",
              "      <td>...</td>\n",
              "      <td>...</td>\n",
              "      <td>...</td>\n",
              "      <td>...</td>\n",
              "      <td>...</td>\n",
              "      <td>...</td>\n",
              "      <td>...</td>\n",
              "      <td>...</td>\n",
              "      <td>...</td>\n",
              "      <td>...</td>\n",
              "      <td>...</td>\n",
              "      <td>...</td>\n",
              "      <td>...</td>\n",
              "      <td>...</td>\n",
              "      <td>...</td>\n",
              "    </tr>\n",
              "    <tr>\n",
              "      <th>103899</th>\n",
              "      <td>103899</td>\n",
              "      <td>94171</td>\n",
              "      <td>Female</td>\n",
              "      <td>disloyal Customer</td>\n",
              "      <td>23</td>\n",
              "      <td>Business travel</td>\n",
              "      <td>Eco</td>\n",
              "      <td>192</td>\n",
              "      <td>2</td>\n",
              "      <td>1</td>\n",
              "      <td>2</td>\n",
              "      <td>3</td>\n",
              "      <td>2</td>\n",
              "      <td>2</td>\n",
              "      <td>2</td>\n",
              "      <td>2</td>\n",
              "      <td>3</td>\n",
              "      <td>1</td>\n",
              "      <td>4</td>\n",
              "      <td>2</td>\n",
              "      <td>3</td>\n",
              "      <td>2</td>\n",
              "      <td>3</td>\n",
              "      <td>0.0</td>\n",
              "      <td>neutral or dissatisfied</td>\n",
              "    </tr>\n",
              "    <tr>\n",
              "      <th>103900</th>\n",
              "      <td>103900</td>\n",
              "      <td>73097</td>\n",
              "      <td>Male</td>\n",
              "      <td>Loyal Customer</td>\n",
              "      <td>49</td>\n",
              "      <td>Business travel</td>\n",
              "      <td>Business</td>\n",
              "      <td>2347</td>\n",
              "      <td>4</td>\n",
              "      <td>4</td>\n",
              "      <td>4</td>\n",
              "      <td>4</td>\n",
              "      <td>2</td>\n",
              "      <td>4</td>\n",
              "      <td>5</td>\n",
              "      <td>5</td>\n",
              "      <td>5</td>\n",
              "      <td>5</td>\n",
              "      <td>5</td>\n",
              "      <td>5</td>\n",
              "      <td>5</td>\n",
              "      <td>4</td>\n",
              "      <td>0</td>\n",
              "      <td>0.0</td>\n",
              "      <td>satisfied</td>\n",
              "    </tr>\n",
              "    <tr>\n",
              "      <th>103901</th>\n",
              "      <td>103901</td>\n",
              "      <td>68825</td>\n",
              "      <td>Male</td>\n",
              "      <td>disloyal Customer</td>\n",
              "      <td>30</td>\n",
              "      <td>Business travel</td>\n",
              "      <td>Business</td>\n",
              "      <td>1995</td>\n",
              "      <td>1</td>\n",
              "      <td>1</td>\n",
              "      <td>1</td>\n",
              "      <td>3</td>\n",
              "      <td>4</td>\n",
              "      <td>1</td>\n",
              "      <td>5</td>\n",
              "      <td>4</td>\n",
              "      <td>3</td>\n",
              "      <td>2</td>\n",
              "      <td>4</td>\n",
              "      <td>5</td>\n",
              "      <td>5</td>\n",
              "      <td>4</td>\n",
              "      <td>7</td>\n",
              "      <td>14.0</td>\n",
              "      <td>neutral or dissatisfied</td>\n",
              "    </tr>\n",
              "    <tr>\n",
              "      <th>103902</th>\n",
              "      <td>103902</td>\n",
              "      <td>54173</td>\n",
              "      <td>Female</td>\n",
              "      <td>disloyal Customer</td>\n",
              "      <td>22</td>\n",
              "      <td>Business travel</td>\n",
              "      <td>Eco</td>\n",
              "      <td>1000</td>\n",
              "      <td>1</td>\n",
              "      <td>1</td>\n",
              "      <td>1</td>\n",
              "      <td>5</td>\n",
              "      <td>1</td>\n",
              "      <td>1</td>\n",
              "      <td>1</td>\n",
              "      <td>1</td>\n",
              "      <td>4</td>\n",
              "      <td>5</td>\n",
              "      <td>1</td>\n",
              "      <td>5</td>\n",
              "      <td>4</td>\n",
              "      <td>1</td>\n",
              "      <td>0</td>\n",
              "      <td>0.0</td>\n",
              "      <td>neutral or dissatisfied</td>\n",
              "    </tr>\n",
              "    <tr>\n",
              "      <th>103903</th>\n",
              "      <td>103903</td>\n",
              "      <td>62567</td>\n",
              "      <td>Male</td>\n",
              "      <td>Loyal Customer</td>\n",
              "      <td>27</td>\n",
              "      <td>Business travel</td>\n",
              "      <td>Business</td>\n",
              "      <td>1723</td>\n",
              "      <td>1</td>\n",
              "      <td>3</td>\n",
              "      <td>3</td>\n",
              "      <td>3</td>\n",
              "      <td>1</td>\n",
              "      <td>1</td>\n",
              "      <td>1</td>\n",
              "      <td>1</td>\n",
              "      <td>1</td>\n",
              "      <td>1</td>\n",
              "      <td>4</td>\n",
              "      <td>4</td>\n",
              "      <td>3</td>\n",
              "      <td>1</td>\n",
              "      <td>0</td>\n",
              "      <td>0.0</td>\n",
              "      <td>neutral or dissatisfied</td>\n",
              "    </tr>\n",
              "  </tbody>\n",
              "</table>\n",
              "<p>103904 rows × 25 columns</p>\n",
              "</div>\n",
              "    <div class=\"colab-df-buttons\">\n",
              "\n",
              "  <div class=\"colab-df-container\">\n",
              "    <button class=\"colab-df-convert\" onclick=\"convertToInteractive('df-b38166c5-e996-4ef4-ba9c-6696683418b7')\"\n",
              "            title=\"Convert this dataframe to an interactive table.\"\n",
              "            style=\"display:none;\">\n",
              "\n",
              "  <svg xmlns=\"http://www.w3.org/2000/svg\" height=\"24px\" viewBox=\"0 -960 960 960\">\n",
              "    <path d=\"M120-120v-720h720v720H120Zm60-500h600v-160H180v160Zm220 220h160v-160H400v160Zm0 220h160v-160H400v160ZM180-400h160v-160H180v160Zm440 0h160v-160H620v160ZM180-180h160v-160H180v160Zm440 0h160v-160H620v160Z\"/>\n",
              "  </svg>\n",
              "    </button>\n",
              "\n",
              "  <style>\n",
              "    .colab-df-container {\n",
              "      display:flex;\n",
              "      gap: 12px;\n",
              "    }\n",
              "\n",
              "    .colab-df-convert {\n",
              "      background-color: #E8F0FE;\n",
              "      border: none;\n",
              "      border-radius: 50%;\n",
              "      cursor: pointer;\n",
              "      display: none;\n",
              "      fill: #1967D2;\n",
              "      height: 32px;\n",
              "      padding: 0 0 0 0;\n",
              "      width: 32px;\n",
              "    }\n",
              "\n",
              "    .colab-df-convert:hover {\n",
              "      background-color: #E2EBFA;\n",
              "      box-shadow: 0px 1px 2px rgba(60, 64, 67, 0.3), 0px 1px 3px 1px rgba(60, 64, 67, 0.15);\n",
              "      fill: #174EA6;\n",
              "    }\n",
              "\n",
              "    .colab-df-buttons div {\n",
              "      margin-bottom: 4px;\n",
              "    }\n",
              "\n",
              "    [theme=dark] .colab-df-convert {\n",
              "      background-color: #3B4455;\n",
              "      fill: #D2E3FC;\n",
              "    }\n",
              "\n",
              "    [theme=dark] .colab-df-convert:hover {\n",
              "      background-color: #434B5C;\n",
              "      box-shadow: 0px 1px 3px 1px rgba(0, 0, 0, 0.15);\n",
              "      filter: drop-shadow(0px 1px 2px rgba(0, 0, 0, 0.3));\n",
              "      fill: #FFFFFF;\n",
              "    }\n",
              "  </style>\n",
              "\n",
              "    <script>\n",
              "      const buttonEl =\n",
              "        document.querySelector('#df-b38166c5-e996-4ef4-ba9c-6696683418b7 button.colab-df-convert');\n",
              "      buttonEl.style.display =\n",
              "        google.colab.kernel.accessAllowed ? 'block' : 'none';\n",
              "\n",
              "      async function convertToInteractive(key) {\n",
              "        const element = document.querySelector('#df-b38166c5-e996-4ef4-ba9c-6696683418b7');\n",
              "        const dataTable =\n",
              "          await google.colab.kernel.invokeFunction('convertToInteractive',\n",
              "                                                    [key], {});\n",
              "        if (!dataTable) return;\n",
              "\n",
              "        const docLinkHtml = 'Like what you see? Visit the ' +\n",
              "          '<a target=\"_blank\" href=https://colab.research.google.com/notebooks/data_table.ipynb>data table notebook</a>'\n",
              "          + ' to learn more about interactive tables.';\n",
              "        element.innerHTML = '';\n",
              "        dataTable['output_type'] = 'display_data';\n",
              "        await google.colab.output.renderOutput(dataTable, element);\n",
              "        const docLink = document.createElement('div');\n",
              "        docLink.innerHTML = docLinkHtml;\n",
              "        element.appendChild(docLink);\n",
              "      }\n",
              "    </script>\n",
              "  </div>\n",
              "\n",
              "\n",
              "<div id=\"df-e2211610-840a-425a-927b-6b868abcef8c\">\n",
              "  <button class=\"colab-df-quickchart\" onclick=\"quickchart('df-e2211610-840a-425a-927b-6b868abcef8c')\"\n",
              "            title=\"Suggest charts\"\n",
              "            style=\"display:none;\">\n",
              "\n",
              "<svg xmlns=\"http://www.w3.org/2000/svg\" height=\"24px\"viewBox=\"0 0 24 24\"\n",
              "     width=\"24px\">\n",
              "    <g>\n",
              "        <path d=\"M19 3H5c-1.1 0-2 .9-2 2v14c0 1.1.9 2 2 2h14c1.1 0 2-.9 2-2V5c0-1.1-.9-2-2-2zM9 17H7v-7h2v7zm4 0h-2V7h2v10zm4 0h-2v-4h2v4z\"/>\n",
              "    </g>\n",
              "</svg>\n",
              "  </button>\n",
              "\n",
              "<style>\n",
              "  .colab-df-quickchart {\n",
              "      --bg-color: #E8F0FE;\n",
              "      --fill-color: #1967D2;\n",
              "      --hover-bg-color: #E2EBFA;\n",
              "      --hover-fill-color: #174EA6;\n",
              "      --disabled-fill-color: #AAA;\n",
              "      --disabled-bg-color: #DDD;\n",
              "  }\n",
              "\n",
              "  [theme=dark] .colab-df-quickchart {\n",
              "      --bg-color: #3B4455;\n",
              "      --fill-color: #D2E3FC;\n",
              "      --hover-bg-color: #434B5C;\n",
              "      --hover-fill-color: #FFFFFF;\n",
              "      --disabled-bg-color: #3B4455;\n",
              "      --disabled-fill-color: #666;\n",
              "  }\n",
              "\n",
              "  .colab-df-quickchart {\n",
              "    background-color: var(--bg-color);\n",
              "    border: none;\n",
              "    border-radius: 50%;\n",
              "    cursor: pointer;\n",
              "    display: none;\n",
              "    fill: var(--fill-color);\n",
              "    height: 32px;\n",
              "    padding: 0;\n",
              "    width: 32px;\n",
              "  }\n",
              "\n",
              "  .colab-df-quickchart:hover {\n",
              "    background-color: var(--hover-bg-color);\n",
              "    box-shadow: 0 1px 2px rgba(60, 64, 67, 0.3), 0 1px 3px 1px rgba(60, 64, 67, 0.15);\n",
              "    fill: var(--button-hover-fill-color);\n",
              "  }\n",
              "\n",
              "  .colab-df-quickchart-complete:disabled,\n",
              "  .colab-df-quickchart-complete:disabled:hover {\n",
              "    background-color: var(--disabled-bg-color);\n",
              "    fill: var(--disabled-fill-color);\n",
              "    box-shadow: none;\n",
              "  }\n",
              "\n",
              "  .colab-df-spinner {\n",
              "    border: 2px solid var(--fill-color);\n",
              "    border-color: transparent;\n",
              "    border-bottom-color: var(--fill-color);\n",
              "    animation:\n",
              "      spin 1s steps(1) infinite;\n",
              "  }\n",
              "\n",
              "  @keyframes spin {\n",
              "    0% {\n",
              "      border-color: transparent;\n",
              "      border-bottom-color: var(--fill-color);\n",
              "      border-left-color: var(--fill-color);\n",
              "    }\n",
              "    20% {\n",
              "      border-color: transparent;\n",
              "      border-left-color: var(--fill-color);\n",
              "      border-top-color: var(--fill-color);\n",
              "    }\n",
              "    30% {\n",
              "      border-color: transparent;\n",
              "      border-left-color: var(--fill-color);\n",
              "      border-top-color: var(--fill-color);\n",
              "      border-right-color: var(--fill-color);\n",
              "    }\n",
              "    40% {\n",
              "      border-color: transparent;\n",
              "      border-right-color: var(--fill-color);\n",
              "      border-top-color: var(--fill-color);\n",
              "    }\n",
              "    60% {\n",
              "      border-color: transparent;\n",
              "      border-right-color: var(--fill-color);\n",
              "    }\n",
              "    80% {\n",
              "      border-color: transparent;\n",
              "      border-right-color: var(--fill-color);\n",
              "      border-bottom-color: var(--fill-color);\n",
              "    }\n",
              "    90% {\n",
              "      border-color: transparent;\n",
              "      border-bottom-color: var(--fill-color);\n",
              "    }\n",
              "  }\n",
              "</style>\n",
              "\n",
              "  <script>\n",
              "    async function quickchart(key) {\n",
              "      const quickchartButtonEl =\n",
              "        document.querySelector('#' + key + ' button');\n",
              "      quickchartButtonEl.disabled = true;  // To prevent multiple clicks.\n",
              "      quickchartButtonEl.classList.add('colab-df-spinner');\n",
              "      try {\n",
              "        const charts = await google.colab.kernel.invokeFunction(\n",
              "            'suggestCharts', [key], {});\n",
              "      } catch (error) {\n",
              "        console.error('Error during call to suggestCharts:', error);\n",
              "      }\n",
              "      quickchartButtonEl.classList.remove('colab-df-spinner');\n",
              "      quickchartButtonEl.classList.add('colab-df-quickchart-complete');\n",
              "    }\n",
              "    (() => {\n",
              "      let quickchartButtonEl =\n",
              "        document.querySelector('#df-e2211610-840a-425a-927b-6b868abcef8c button');\n",
              "      quickchartButtonEl.style.display =\n",
              "        google.colab.kernel.accessAllowed ? 'block' : 'none';\n",
              "    })();\n",
              "  </script>\n",
              "</div>\n",
              "    </div>\n",
              "  </div>\n"
            ],
            "application/vnd.google.colaboratory.intrinsic+json": {
              "type": "dataframe",
              "variable_name": "data"
            }
          },
          "metadata": {},
          "execution_count": 3
        }
      ]
    },
    {
      "cell_type": "code",
      "source": [
        "data.info()"
      ],
      "metadata": {
        "colab": {
          "base_uri": "https://localhost:8080/"
        },
        "id": "v2aaSrxa6urJ",
        "outputId": "3eedaf08-cd60-4e0a-861f-e53dfc66459f"
      },
      "execution_count": 4,
      "outputs": [
        {
          "output_type": "stream",
          "name": "stdout",
          "text": [
            "<class 'pandas.core.frame.DataFrame'>\n",
            "RangeIndex: 103904 entries, 0 to 103903\n",
            "Data columns (total 25 columns):\n",
            " #   Column                             Non-Null Count   Dtype  \n",
            "---  ------                             --------------   -----  \n",
            " 0   Unnamed: 0                         103904 non-null  int64  \n",
            " 1   id                                 103904 non-null  int64  \n",
            " 2   Gender                             103904 non-null  object \n",
            " 3   Customer Type                      103904 non-null  object \n",
            " 4   Age                                103904 non-null  int64  \n",
            " 5   Type of Travel                     103904 non-null  object \n",
            " 6   Class                              103904 non-null  object \n",
            " 7   Flight Distance                    103904 non-null  int64  \n",
            " 8   Inflight wifi service              103904 non-null  int64  \n",
            " 9   Departure/Arrival time convenient  103904 non-null  int64  \n",
            " 10  Ease of Online booking             103904 non-null  int64  \n",
            " 11  Gate location                      103904 non-null  int64  \n",
            " 12  Food and drink                     103904 non-null  int64  \n",
            " 13  Online boarding                    103904 non-null  int64  \n",
            " 14  Seat comfort                       103904 non-null  int64  \n",
            " 15  Inflight entertainment             103904 non-null  int64  \n",
            " 16  On-board service                   103904 non-null  int64  \n",
            " 17  Leg room service                   103904 non-null  int64  \n",
            " 18  Baggage handling                   103904 non-null  int64  \n",
            " 19  Checkin service                    103904 non-null  int64  \n",
            " 20  Inflight service                   103904 non-null  int64  \n",
            " 21  Cleanliness                        103904 non-null  int64  \n",
            " 22  Departure Delay in Minutes         103904 non-null  int64  \n",
            " 23  Arrival Delay in Minutes           103594 non-null  float64\n",
            " 24  satisfaction                       103904 non-null  object \n",
            "dtypes: float64(1), int64(19), object(5)\n",
            "memory usage: 19.8+ MB\n"
          ]
        }
      ]
    },
    {
      "cell_type": "markdown",
      "source": [
        "Pre-processing Data"
      ],
      "metadata": {
        "id": "k0z7piIUtery"
      }
    },
    {
      "cell_type": "code",
      "source": [
        "data= data.dropna()"
      ],
      "metadata": {
        "id": "E4zHiPYP63B2"
      },
      "execution_count": 5,
      "outputs": []
    },
    {
      "cell_type": "code",
      "source": [
        "data=data.drop(['Unnamed: 0','id'],axis=1)"
      ],
      "metadata": {
        "id": "QnmHHv9-7GyF"
      },
      "execution_count": 6,
      "outputs": []
    },
    {
      "cell_type": "code",
      "source": [
        "from sklearn.preprocessing import LabelEncoder\n",
        "le = LabelEncoder()\n",
        "data['Gender'] = le.fit_transform(data['Gender'])\n",
        "data['Customer Type'] = le.fit_transform(data['Customer Type'])\n",
        "data['Type of Travel'] = le.fit_transform(data['Type of Travel'])\n",
        "data['Class'] = le.fit_transform(data['Class'])"
      ],
      "metadata": {
        "id": "H9-syBDh7IDN"
      },
      "execution_count": 7,
      "outputs": []
    },
    {
      "cell_type": "code",
      "source": [
        "data=data.drop(['satisfaction'],axis=1)"
      ],
      "metadata": {
        "id": "wYK1VRDg7QN3"
      },
      "execution_count": 8,
      "outputs": []
    },
    {
      "cell_type": "code",
      "source": [
        "data.info()"
      ],
      "metadata": {
        "colab": {
          "base_uri": "https://localhost:8080/"
        },
        "id": "AsNU-TTC7UkO",
        "outputId": "91cc1cf9-fab1-4608-e157-d9f21f443198"
      },
      "execution_count": 9,
      "outputs": [
        {
          "output_type": "stream",
          "name": "stdout",
          "text": [
            "<class 'pandas.core.frame.DataFrame'>\n",
            "Int64Index: 103594 entries, 0 to 103903\n",
            "Data columns (total 22 columns):\n",
            " #   Column                             Non-Null Count   Dtype  \n",
            "---  ------                             --------------   -----  \n",
            " 0   Gender                             103594 non-null  int64  \n",
            " 1   Customer Type                      103594 non-null  int64  \n",
            " 2   Age                                103594 non-null  int64  \n",
            " 3   Type of Travel                     103594 non-null  int64  \n",
            " 4   Class                              103594 non-null  int64  \n",
            " 5   Flight Distance                    103594 non-null  int64  \n",
            " 6   Inflight wifi service              103594 non-null  int64  \n",
            " 7   Departure/Arrival time convenient  103594 non-null  int64  \n",
            " 8   Ease of Online booking             103594 non-null  int64  \n",
            " 9   Gate location                      103594 non-null  int64  \n",
            " 10  Food and drink                     103594 non-null  int64  \n",
            " 11  Online boarding                    103594 non-null  int64  \n",
            " 12  Seat comfort                       103594 non-null  int64  \n",
            " 13  Inflight entertainment             103594 non-null  int64  \n",
            " 14  On-board service                   103594 non-null  int64  \n",
            " 15  Leg room service                   103594 non-null  int64  \n",
            " 16  Baggage handling                   103594 non-null  int64  \n",
            " 17  Checkin service                    103594 non-null  int64  \n",
            " 18  Inflight service                   103594 non-null  int64  \n",
            " 19  Cleanliness                        103594 non-null  int64  \n",
            " 20  Departure Delay in Minutes         103594 non-null  int64  \n",
            " 21  Arrival Delay in Minutes           103594 non-null  float64\n",
            "dtypes: float64(1), int64(21)\n",
            "memory usage: 18.2 MB\n"
          ]
        }
      ]
    },
    {
      "cell_type": "markdown",
      "source": [
        "Model Training"
      ],
      "metadata": {
        "id": "fgcF_k0v7hHh"
      }
    },
    {
      "cell_type": "code",
      "source": [
        "# Elbow method\n",
        "wcss = []\n",
        "for i in range(1, 21):\n",
        "    kmeans = KMeans(n_clusters = i, init = 'k-means++', random_state = 42)\n",
        "    kmeans.fit(data)\n",
        "    wcss.append(kmeans.inertia_)\n",
        "plt.figure(figsize=(24,7))\n",
        "plt.plot(range(1, 21), wcss)\n",
        "plt.title('The Elbow Method')\n",
        "plt.xlabel('Number of clusters')\n",
        "plt.ylabel('WCSS')\n",
        "plt.show()\n",
        "# Shows 2 clusters to be formed:"
      ],
      "metadata": {
        "colab": {
          "base_uri": "https://localhost:8080/",
          "height": 377
        },
        "id": "OhYj8zrS7X5t",
        "outputId": "1a9daee1-f965-46b1-fd38-bbb359950fdc"
      },
      "execution_count": 10,
      "outputs": [
        {
          "output_type": "display_data",
          "data": {
            "text/plain": [
              "<Figure size 2400x700 with 1 Axes>"
            ],
            "image/png": "[encoded data removed]"
          },
          "metadata": {}
        }
      ]
    },
    {
      "cell_type": "code",
      "source": [
        "# Random Sampling data\n",
        "sampled_dataset = data.sample(n=20000, random_state=42)"
      ],
      "metadata": {
        "id": "FXTqWSaTtni0"
      },
      "execution_count": 11,
      "outputs": []
    },
    {
      "cell_type": "code",
      "source": [
        "# Applying Kmeans Clustering:\n",
        "\n",
        "km = KMeans(n_clusters = 2, init = 'k-means++')\n",
        "sampled_dataset['KMeans']=km.fit_predict(sampled_dataset)\n",
        "\n",
        "cluster_sizes = Counter(sampled_dataset['KMeans'])\n",
        "\n",
        "for cluster, size in cluster_sizes.items():\n",
        "    print(f\"Cluster {cluster}: {size} samples\")"
      ],
      "metadata": {
        "id": "2Nb2JC4A79TF",
        "colab": {
          "base_uri": "https://localhost:8080/"
        },
        "outputId": "87f211d0-d812-4070-a012-cff50c6ab937"
      },
      "execution_count": 12,
      "outputs": [
        {
          "output_type": "stream",
          "name": "stdout",
          "text": [
            "Cluster 0: 14597 samples\n",
            "Cluster 1: 5403 samples\n"
          ]
        }
      ]
    },
    {
      "cell_type": "code",
      "source": [
        "# Applying Agglomerative clustering:\n",
        "\n",
        "ac = AgglomerativeClustering(n_clusters = 2, affinity = 'euclidean', linkage = 'ward')\n",
        "sampled_dataset['Agglomerative'] = ac.fit_predict(sampled_dataset)\n",
        "\n",
        "cluster_sizes_a = Counter(sampled_dataset['Agglomerative'])\n",
        "\n",
        "for cluster, size in cluster_sizes_a.items():\n",
        "    print(f\"Cluster {cluster}: {size} samples\")"
      ],
      "metadata": {
        "id": "z4_aKEHY9F_4",
        "colab": {
          "base_uri": "https://localhost:8080/"
        },
        "outputId": "de909a89-7209-454f-e872-7f28405a6364"
      },
      "execution_count": 13,
      "outputs": [
        {
          "output_type": "stream",
          "name": "stdout",
          "text": [
            "Cluster 1: 13262 samples\n",
            "Cluster 0: 6738 samples\n"
          ]
        }
      ]
    },
    {
      "cell_type": "markdown",
      "source": [
        "**Interpretation**:\n",
        "\n",
        "The difference in the sizes of clusters suggests that the data points are not evenly distributed across the clusters.\n",
        "In both clustering algorithms, there is an imbalance in cluster sizes, indicating that certain clusters may be more dominant or prevalent in the data."
      ],
      "metadata": {
        "id": "1NhlJZCjweMy"
      }
    },
    {
      "cell_type": "code",
      "source": [
        "# visualizing clusters:\n",
        "\n",
        "print(\"K- Means and Agglomerative Clustering\")\n",
        "figure, axes = plt.subplots(1, 2, figsize=(24, 10))\n",
        "colors = ['red','blue','yellow','green']\n",
        "axes[0].scatter(data=sampled_dataset[sampled_dataset['KMeans']==0], x='Flight Distance', y='Arrival Delay in Minutes',color='red', label='Cluster 1')\n",
        "axes[0].scatter(data=sampled_dataset[sampled_dataset['KMeans']==1], x='Flight Distance', y='Arrival Delay in Minutes',color='blue', label='Cluster 2')\n",
        "axes[0].legend()\n",
        "axes[1].scatter(data=sampled_dataset[sampled_dataset['Agglomerative']==0], x='Flight Distance', y='Arrival Delay in Minutes',color='red', label='Cluster 1')\n",
        "axes[1].scatter(data=sampled_dataset[sampled_dataset['Agglomerative']==1], x='Flight Distance', y='Arrival Delay in Minutes',color='blue', label='Cluster 2')\n",
        "axes[1].legend()"
      ],
      "metadata": {
        "colab": {
          "base_uri": "https://localhost:8080/",
          "height": 522
        },
        "id": "gFrC16FcJQAn",
        "outputId": "49619f9d-614d-42be-bc50-a2167498a6f1"
      },
      "execution_count": 14,
      "outputs": [
        {
          "output_type": "stream",
          "name": "stdout",
          "text": [
            "K- Means and Agglomerative Clustering\n"
          ]
        },
        {
          "output_type": "execute_result",
          "data": {
            "text/plain": [
              "<matplotlib.legend.Legend at 0x7dfa894598d0>"
            ]
          },
          "metadata": {},
          "execution_count": 14
        },
        {
          "output_type": "display_data",
          "data": {
            "text/plain": [
              "<Figure size 2400x1000 with 2 Axes>"
            ],
            "image/png": "[encoded data removed]"
          },
          "metadata": {}
        }
      ]
    },
    {
      "cell_type": "code",
      "source": [
        "# Evaluate clustering performance using Silhouette Score\n",
        "\n",
        "print(\"For K-Means Clustering:\")\n",
        "\n",
        "silhouette_avg = silhouette_score(sampled_dataset, sampled_dataset['KMeans'])\n",
        "print(\"Silhouette Score: \", silhouette_avg)\n",
        "\n",
        "print(\"\\n\")\n",
        "\n",
        "print(\"For Agglomerative Clustering:\")\n",
        "\n",
        "silhouette_avg = silhouette_score(sampled_dataset, sampled_dataset['Agglomerative'])\n",
        "print(\"Silhouette Score: \", silhouette_avg)"
      ],
      "metadata": {
        "colab": {
          "base_uri": "https://localhost:8080/"
        },
        "id": "pkCNCJMSL4ss",
        "outputId": "5332b353-15d7-49e6-b98a-0c6798086003"
      },
      "execution_count": 15,
      "outputs": [
        {
          "output_type": "stream",
          "name": "stdout",
          "text": [
            "For K-Means Clustering:\n",
            "Silhouette Score:  0.6907365413376514\n",
            "\n",
            "\n",
            "For Agglomerative Clustering:\n",
            "Silhouette Score:  0.6729653869913153\n"
          ]
        }
      ]
    },
    {
      "cell_type": "markdown",
      "source": [
        "**Interpretation:**\n",
        "\n",
        "Both K-Means and Agglomerative Clustering have relatively high silhouette scores, indicating that the clusters formed by both algorithms are dense and well-separated.\n",
        "The silhouette score for K-Means clustering (0.691) is slightly higher than that for Agglomerative Clustering (0.673), suggesting that K-Means may have produced clusters that are slightly more internally cohesive and better separated from other clusters compared to Agglomerative Clustering in this specific case."
      ],
      "metadata": {
        "id": "uqK3VDbQxJNB"
      }
    },
    {
      "cell_type": "code",
      "source": [
        "#  Calculating memory usage and time taken\n",
        "\n",
        "def run_cluster_model(sampled_dataset):\n",
        "    start_time = time.time()\n",
        "\n",
        "    # Create and fit KMeans clustering model\n",
        "    kmeans = KMeans(n_clusters=2)\n",
        "    kmeans.fit(sampled_dataset)\n",
        "\n",
        "    end_time = time.time()\n",
        "    elapsed_time = end_time - start_time\n",
        "\n",
        "    # Memory usage\n",
        "    mem_usage = memory_profiler.memory_usage()\n",
        "    max_mem_usage = max(mem_usage)\n",
        "\n",
        "    return elapsed_time, max_mem_usage\n",
        "\n",
        "# Example usage\n",
        "if __name__ == '__main__':\n",
        "    # Assuming 'data' is your dataset\n",
        "    elapsed_time, max_mem_usage = run_cluster_model(sampled_dataset)\n",
        "    print(\"Kmeans Clustering\")\n",
        "    print(\"Time taken:\", elapsed_time, \"seconds\")\n",
        "    print(\"Maximum memory usage:\", max_mem_usage, \"MB\")"
      ],
      "metadata": {
        "colab": {
          "base_uri": "https://localhost:8080/"
        },
        "id": "8OzZLEOtWzzH",
        "outputId": "8d921b2f-ec8a-4f0f-d475-e9a2340a1b86"
      },
      "execution_count": 16,
      "outputs": [
        {
          "output_type": "stream",
          "name": "stdout",
          "text": [
            "Kmeans Clustering\n",
            "Time taken: 0.9407715797424316 seconds\n",
            "Maximum memory usage: 319.546875 MB\n"
          ]
        }
      ]
    },
    {
      "cell_type": "code",
      "source": [
        "#  Calculating memory usage and time taken\n",
        "\n",
        "def run_cluster_model(sampled_dataset):\n",
        "    start_time = time.time()\n",
        "\n",
        "    # Create and fit KMeans clustering model\n",
        "    ac = AgglomerativeClustering(n_clusters=2)\n",
        "    ac.fit(sampled_dataset)\n",
        "\n",
        "\n",
        "    end_time = time.time()\n",
        "    elapsed_time = end_time - start_time\n",
        "\n",
        "    # Memory usage\n",
        "    mem_usage = memory_profiler.memory_usage()\n",
        "    max_mem_usage = max(mem_usage)\n",
        "\n",
        "    return elapsed_time, max_mem_usage\n",
        "\n",
        "# Example usage\n",
        "if __name__ == '__main__':\n",
        "    # Assuming 'data' is your dataset\n",
        "    elapsed_time, max_mem_usage = run_cluster_model(sampled_dataset)\n",
        "    print(\"Kmeans Clustering\")\n",
        "    print(\"Time taken:\", elapsed_time, \"seconds\")\n",
        "    print(\"Maximum memory usage:\", max_mem_usage, \"MB\")"
      ],
      "metadata": {
        "colab": {
          "base_uri": "https://localhost:8080/"
        },
        "id": "z3h8v6teblvQ",
        "outputId": "676c53ef-d297-42fa-9e4a-3db902c70f28"
      },
      "execution_count": 17,
      "outputs": [
        {
          "output_type": "stream",
          "name": "stdout",
          "text": [
            "Kmeans Clustering\n",
            "Time taken: 36.44144940376282 seconds\n",
            "Maximum memory usage: 319.5546875 MB\n"
          ]
        }
      ]
    },
    {
      "cell_type": "markdown",
      "source": [
        "**Interpretation:**\n",
        "\n",
        "KMeans clustering is advantageous in terms of computational efficiency and memory usage, especially for large datasets, as it can handle large-scale data efficiently.\n",
        "Agglomerative clustering, while slower and potentially more memory-intensive, offers the advantage of producing hierarchical cluster structures, which may be useful for certain types of data or analytical tasks.\n",
        "The choice between KMeans and Agglomerative clustering depends on various factors, including the size and nature of the dataset, the desired cluster structure, computational resources available, and the specific objectives of the analysis."
      ],
      "metadata": {
        "id": "z5Z1F-5Ex8lV"
      }
    },
    {
      "cell_type": "code",
      "source": [
        "# Calculate Adjusted Rand Index\n",
        "ari = adjusted_rand_score(sampled_dataset['KMeans'], sampled_dataset['Agglomerative'])\n",
        "print(\"Adjusted Rand Index:\", ari)"
      ],
      "metadata": {
        "id": "mmvxegm6c2_S",
        "colab": {
          "base_uri": "https://localhost:8080/"
        },
        "outputId": "e7a4d3d8-72e1-45fd-d45d-028a7a91cd24"
      },
      "execution_count": 18,
      "outputs": [
        {
          "output_type": "stream",
          "name": "stdout",
          "text": [
            "Adjusted Rand Index: 0.7447265532423588\n"
          ]
        }
      ]
    },
    {
      "cell_type": "markdown",
      "source": [
        "**Interpretation:**\n",
        "\n",
        "The ARI value of 0.745 indicates a high degree of similarity between the clusterings produced by KMeans and Agglomerative clustering algorithms.\n",
        "This suggests that the two clustering algorithms have produced similar cluster assignments on the dataset.\n",
        "\n",
        "The high ARI value implies that both clustering algorithms have identified similar patterns or structures within the data, leading to comparable cluster assignments.\n",
        "ARI takes into account chance agreement, so the observed similarity between the clusterings is significant beyond random chance."
      ],
      "metadata": {
        "id": "Tqm2zr5N0GQQ"
      }
    },
    {
      "cell_type": "markdown",
      "source": [
        "**Managerial Implications:**\n",
        "\n",
        "Understanding the natural groupings or patterns within the data can help managers gain insights into customer segments, market trends, product preferences, or operational efficiencies.\n",
        "Identifying clusters allows managers to tailor their strategies, products, or services to better meet the needs of different customer segments.\n",
        "Algorithm Selection:\n",
        "\n",
        "The choice of clustering algorithm (e.g., KMeans, Agglomerative) should consider factors such as computational efficiency, interpretability of results, and suitability for the dataset's characteristics.\n",
        "Managers should assess the trade-offs between different clustering algorithms based on performance metrics, computational resources, and the desired cluster structure.\n",
        "Resource Allocation:\n",
        "\n",
        "Clustering analysis can inform resource allocation decisions by identifying areas of focus or investment based on the characteristics of different clusters.\n",
        "Managers can allocate marketing budgets, staffing, or product development resources more effectively by targeting specific customer segments or market niches identified through clustering."
      ],
      "metadata": {
        "id": "AigHr0yZ1FG7"
      }
    }
  ]
}